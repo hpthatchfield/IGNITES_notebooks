{
 "cells": [
  {
   "cell_type": "code",
   "execution_count": null,
   "id": "ae2dda27",
   "metadata": {},
   "outputs": [],
   "source": [
    "'''\n",
    "Introductory script to generate and plot double-peaked blackbody spectra\n",
    "HP Hatchfield, 9/19/22\n",
    "'''\n",
    "\n",
    "### beginning imports\n",
    "import numpy as np\n",
    "from astropy import units as u\n",
    "import matplotlib.pyplot as plt\n",
    "from astropy import constants as const\n"
   ]
  },
  {
   "cell_type": "code",
   "execution_count": null,
   "id": "85ac182d",
   "metadata": {},
   "outputs": [],
   "source": [
    "# Some useful constants\n",
    "h       = const.h.to(u.erg * u.s).value\n",
    "k       = const.k_B.to(u.erg / u.K).value\n",
    "c       = const.c.to(u.cm / u.s).value\n",
    "mmp     = 2.8\n",
    "mh      = const.m_p.to(u.g).value\n",
    "\n",
    "G = 6.67408e-11\n",
    "msun = 1.989e33\n",
    "mh = 1.6737236e-27\n",
    "pc2cm = 3.08567758e18\n",
    "as2persr = 4.25e10 \n",
    "percm2perm = 1.0e6\n",
    "hplanck = 6.63e-34\n",
    "clight = 2.99792e8\n",
    "kboltzmann = 1.381e-23\n",
    "sin1yr = 3.15569e7\n",
    "\n",
    "### define the blackbody function as a functino of frequency\n",
    "def blackbody_freq(freq, T, N):\n",
    "    \"\"\"\n",
    "    Blackbody as a function of frequency (Hz) and temperature (K).\n",
    "    returns units of erg/s/cm^2/cm/Steradian\n",
    "    \"\"\"\n",
    "    \n",
    "    ### dust opacity constants\n",
    "    k0      = 4.0\n",
    "    beta    = 1.75\n",
    "    freq0   = 505e9\n",
    "    ### dust opacity\n",
    "    kv      = (1./100.) * k0 * (freq/freq0)**beta\n",
    "    tau     = mmp * mh * kv * N\n",
    "    F       = 2*h*freq**3 / (c**2 * (np.exp(h*freq / (k*T)) - 1))\n",
    "    F1      = F * (1 - np.exp(-tau))\n",
    "    I       = F1 * 1.e23 / 1.e6\n",
    "\n",
    "    return I"
   ]
  },
  {
   "cell_type": "code",
   "execution_count": null,
   "id": "b19b68ae",
   "metadata": {},
   "outputs": [],
   "source": [
    "###############################\n",
    "## now create simulated data\n",
    "###############################\n",
    "\n",
    "### create an array of the wavelengths that we'll have access to\n",
    "sim_wl = np.array([8.0e-6,20.0e-6,25.2e-6,37.1e-6,70.0e-6,250.0e-6,1300.0e-6])*100.0\n",
    "### create a list of frequencies to plot the curve\n",
    "curve_freqs = np.linspace(1e11, 1e15, 5000)\n",
    "### convert the wavelengths to frequencies\n",
    "sim_freqs = c/(sim_wl)\n",
    "print(sim_freqs)\n",
    "\n",
    "### generate intensities using the blackbody function!\n",
    "ycurve_lt = blackbody_freq(curve_freqs, 30.0, 2e22)\n",
    "ycurve_mt = blackbody_freq(curve_freqs, 100.0, 1e20)\n",
    "ycurve_ht = blackbody_freq(curve_freqs, 200.0, 1e17)\n",
    "sim_y_lt = blackbody_freq(sim_freqs, 30.0, 2e22)\n",
    "sim_y_mt = blackbody_freq(sim_freqs, 100.0, 1e20)\n",
    "sim_y_ht = blackbody_freq(sim_freqs, 200.0, 1e17)\n"
   ]
  },
  {
   "cell_type": "code",
   "execution_count": null,
   "id": "979c7524",
   "metadata": {},
   "outputs": [],
   "source": [
    "#### put it all together and plot it!\n",
    "### if you don't know how some of this works, let me know and we can work through it.\n",
    "\n",
    "fig, axes = plt.subplots(nrows=1,ncols=2,figsize=(10,5))\n",
    "ax=axes[1]\n",
    "ax.scatter(1.0e6*clight/sim_freqs,sim_y_lt+sim_y_ht,color='k')\n",
    "ax.plot(1.0e6*clight/curve_freqs, ycurve_lt, color='cornflowerblue',ls='-',\n",
    "       label='Cool component')\n",
    "ax.plot(1.0e6*clight/curve_freqs, ycurve_ht, color='tomato',ls='-',\n",
    "       label='Warm component')\n",
    "ax.plot(1.0e6*clight/curve_freqs, ycurve_ht+ycurve_lt, color='k',ls='-')\n",
    "\n",
    "### add frequency lines\n",
    "ax.plot([25.2,25.2],[0.001,200],color='green',ls='--',alpha=0.5)\n",
    "ax.plot([37.1,37.1],[0.001,200],color='darkorange',ls='--',alpha=0.5)\n",
    "\n",
    "ax.set_xscale('log')\n",
    "ax.set_yscale('log')\n",
    "ax.set_ylim(0.001,200)\n",
    "ax.set_xlim(1.0e6*clight/1.0e11,1.0e6*clight/1.0e14)\n",
    "#ax.grid()\n",
    "ax.set_xlabel('Wavelength ($\\mu$m)', labelpad=6, fontsize=14)\n",
    "ax.set_ylabel('Intensity (MJy/sr)', labelpad=6, fontsize=14)\n",
    "ax.legend(loc='best')\n",
    "ax.set_title('Cool and Warm Dust Components')\n",
    "\n",
    "ax=axes[0]\n",
    "ax.scatter(1.0e6*clight/sim_freqs,sim_y_lt,color='k')\n",
    "ax.plot(1.0e6*clight/curve_freqs, ycurve_lt, color='cornflowerblue',ls='-')\n",
    "ax.plot(1.0e6*clight/curve_freqs, ycurve_lt, color='k',ls='-')\n",
    "\n",
    "ax.plot([25.2,25.2],[0.001,200],color='green',ls='--',alpha=0.5, label='25.2 $\\mu$m')\n",
    "ax.plot([37.1,37.1],[0.001,200],color='darkorange',ls='--',alpha=0.5, label='37.1 $\\mu$m')\n",
    "ax.set_title('Cool Dust Component Only')\n",
    "ax.set_xscale('log')\n",
    "ax.set_yscale('log')\n",
    "ax.set_ylim(0.001,200)\n",
    "ax.set_xlim(1.0e6*clight/1.0e11,1.0e6*clight/1.0e14)\n",
    "ax.set_xlabel('Wavelength ($\\mu$m)', labelpad=6, fontsize=14)\n",
    "ax.set_ylabel('Intensity (MJy/sr)', labelpad=6, fontsize=14)\n",
    "ax.legend(loc='best')\n",
    "plt.tight_layout()\n"
   ]
  },
  {
   "cell_type": "code",
   "execution_count": null,
   "id": "967820f0",
   "metadata": {},
   "outputs": [],
   "source": [
    "### Add some random noise onto the data points:\n"
   ]
  },
  {
   "cell_type": "code",
   "execution_count": null,
   "id": "13d5df9c",
   "metadata": {},
   "outputs": [],
   "source": [
    "### Plot the points with their added noise, on top of the \"true curves\"\n",
    "### This will be a variation of the previous plot, with different scatter points.\n",
    "### Play around with the visualization and see how you like it\n"
   ]
  },
  {
   "cell_type": "code",
   "execution_count": null,
   "id": "623d1e46",
   "metadata": {},
   "outputs": [],
   "source": [
    "### Try to move around the temperatures of the blackbody curves, see how that changes things\n"
   ]
  },
  {
   "cell_type": "code",
   "execution_count": null,
   "id": "3e37ceff",
   "metadata": {},
   "outputs": [],
   "source": [
    "### Try to fit the blackbody curve function to the NOISELESS scatter points\n",
    "### (talk to me about options for fitting! Or feel free to research it yourself)\n"
   ]
  },
  {
   "cell_type": "code",
   "execution_count": null,
   "id": "26a0b291",
   "metadata": {},
   "outputs": [],
   "source": [
    "### Try to fit the blackbody curve with the added noise\n",
    "\n"
   ]
  },
  {
   "cell_type": "code",
   "execution_count": null,
   "id": "b2bea691",
   "metadata": {},
   "outputs": [],
   "source": []
  },
  {
   "cell_type": "code",
   "execution_count": null,
   "id": "a1080494",
   "metadata": {},
   "outputs": [],
   "source": []
  }
 ],
 "metadata": {
  "kernelspec": {
   "display_name": "Python 3 (ipykernel)",
   "language": "python",
   "name": "python3"
  },
  "language_info": {
   "codemirror_mode": {
    "name": "ipython",
    "version": 3
   },
   "file_extension": ".py",
   "mimetype": "text/x-python",
   "name": "python",
   "nbconvert_exporter": "python",
   "pygments_lexer": "ipython3",
   "version": "3.9.11"
  }
 },
 "nbformat": 4,
 "nbformat_minor": 5
}
